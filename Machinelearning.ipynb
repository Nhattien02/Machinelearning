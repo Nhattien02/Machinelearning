{
  "cells": [
    {
      "cell_type": "markdown",
      "source": [
        "#Báo cáo máy học\n",
        "Họ tên sinh viên: Trương Nhật Tiến _\n",
        "Mssv: 20063731"
      ],
      "metadata": {
        "id": "LoQTlt8G_5eo"
      }
    },
    {
      "cell_type": "markdown",
      "source": [
        "Áp dụng những thuật toán giới thiệu trong bài giảng, so sánh đánh giá sự hiệu quả của các thuật toán đó và đưa ra những thuật toán cải tiến mới tốt hơn cho chấm điểm tín dụng và áp dụng cho một trong các tập dữ liệu chấm điểm tín dụng sau:\n",
        "\n",
        "*   Tập dữ liệu Kaggle: https://www.kaggle.com/c/GiveMeSomeCredit\n",
        "\n",
        "\n",
        "\n"
      ],
      "metadata": {
        "id": "rTggeo4aAavs"
      }
    },
    {
      "cell_type": "code",
      "execution_count": null,
      "metadata": {
        "id": "Fi1iId-g_x18"
      },
      "outputs": [],
      "source": [
        "print(\"hello\")"
      ]
    }
  ],
  "metadata": {
    "kernelspec": {
      "display_name": "Python 3",
      "language": "python",
      "name": "python3"
    },
    "language_info": {
      "name": "python",
      "version": "3.10.6"
    },
    "colab": {
      "provenance": []
    }
  },
  "nbformat": 4,
  "nbformat_minor": 0
}